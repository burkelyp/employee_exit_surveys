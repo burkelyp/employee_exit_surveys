{
 "cells": [
  {
   "cell_type": "markdown",
   "id": "a4477cae",
   "metadata": {
    "collapsed": true
   },
   "source": [
    "# Employee exit surveys\n",
    "#### Exploring relationships of tenure and age with dissatisfied employees"
   ]
  },
  {
   "cell_type": "code",
   "execution_count": 1,
   "id": "63c220a3",
   "metadata": {},
   "outputs": [],
   "source": [
    "# import modules\n",
    "\n",
    "import pandas as pd\n",
    "import numpy as np\n",
    "import seaborn as sns\n",
    "import matplotlib.pyplot as plt\n"
   ]
  },
  {
   "cell_type": "code",
   "execution_count": 2,
   "id": "eade3d44",
   "metadata": {},
   "outputs": [],
   "source": [
    "# import data with simple cleaning\n",
    "\n",
    "dete = pd.read_csv('dete_survey.csv', na_values='Not Stated')\n",
    "dete = dete.drop(dete.columns[28:49], axis=1)\n",
    "tafe = pd.read_csv('tafe_survey.csv')\n",
    "tafe = tafe.drop(tafe.columns[17:66], axis=1)\n"
   ]
  },
  {
   "cell_type": "code",
   "execution_count": 3,
   "id": "10a06ee4",
   "metadata": {},
   "outputs": [
    {
     "name": "stdout",
     "output_type": "stream",
     "text": [
      "<class 'pandas.core.frame.DataFrame'>\n",
      "RangeIndex: 822 entries, 0 to 821\n",
      "Data columns (total 35 columns):\n",
      " #   Column                               Non-Null Count  Dtype  \n",
      "---  ------                               --------------  -----  \n",
      " 0   ID                                   822 non-null    int64  \n",
      " 1   SeparationType                       822 non-null    object \n",
      " 2   Cease Date                           788 non-null    object \n",
      " 3   DETE Start Date                      749 non-null    float64\n",
      " 4   Role Start Date                      724 non-null    float64\n",
      " 5   Position                             817 non-null    object \n",
      " 6   Classification                       455 non-null    object \n",
      " 7   Region                               717 non-null    object \n",
      " 8   Business Unit                        126 non-null    object \n",
      " 9   Employment Status                    817 non-null    object \n",
      " 10  Career move to public sector         822 non-null    bool   \n",
      " 11  Career move to private sector        822 non-null    bool   \n",
      " 12  Interpersonal conflicts              822 non-null    bool   \n",
      " 13  Job dissatisfaction                  822 non-null    bool   \n",
      " 14  Dissatisfaction with the department  822 non-null    bool   \n",
      " 15  Physical work environment            822 non-null    bool   \n",
      " 16  Lack of recognition                  822 non-null    bool   \n",
      " 17  Lack of job security                 822 non-null    bool   \n",
      " 18  Work location                        822 non-null    bool   \n",
      " 19  Employment conditions                822 non-null    bool   \n",
      " 20  Maternity/family                     822 non-null    bool   \n",
      " 21  Relocation                           822 non-null    bool   \n",
      " 22  Study/Travel                         822 non-null    bool   \n",
      " 23  Ill Health                           822 non-null    bool   \n",
      " 24  Traumatic incident                   822 non-null    bool   \n",
      " 25  Work life balance                    822 non-null    bool   \n",
      " 26  Workload                             822 non-null    bool   \n",
      " 27  None of the above                    822 non-null    bool   \n",
      " 28  Gender                               798 non-null    object \n",
      " 29  Age                                  811 non-null    object \n",
      " 30  Aboriginal                           16 non-null     object \n",
      " 31  Torres Strait                        3 non-null      object \n",
      " 32  South Sea                            7 non-null      object \n",
      " 33  Disability                           23 non-null     object \n",
      " 34  NESB                                 32 non-null     object \n",
      "dtypes: bool(18), float64(2), int64(1), object(14)\n",
      "memory usage: 123.7+ KB\n"
     ]
    },
    {
     "data": {
      "text/plain": [
       "ID                                       0\n",
       "SeparationType                           0\n",
       "Cease Date                              34\n",
       "DETE Start Date                         73\n",
       "Role Start Date                         98\n",
       "Position                                 5\n",
       "Classification                         367\n",
       "Region                                 105\n",
       "Business Unit                          696\n",
       "Employment Status                        5\n",
       "Career move to public sector             0\n",
       "Career move to private sector            0\n",
       "Interpersonal conflicts                  0\n",
       "Job dissatisfaction                      0\n",
       "Dissatisfaction with the department      0\n",
       "Physical work environment                0\n",
       "Lack of recognition                      0\n",
       "Lack of job security                     0\n",
       "Work location                            0\n",
       "Employment conditions                    0\n",
       "Maternity/family                         0\n",
       "Relocation                               0\n",
       "Study/Travel                             0\n",
       "Ill Health                               0\n",
       "Traumatic incident                       0\n",
       "Work life balance                        0\n",
       "Workload                                 0\n",
       "None of the above                        0\n",
       "Gender                                  24\n",
       "Age                                     11\n",
       "Aboriginal                             806\n",
       "Torres Strait                          819\n",
       "South Sea                              815\n",
       "Disability                             799\n",
       "NESB                                   790\n",
       "dtype: int64"
      ]
     },
     "execution_count": 3,
     "metadata": {},
     "output_type": "execute_result"
    }
   ],
   "source": [
    "# investigate raw dete data\n",
    "\n",
    "dete.info()\n",
    "dete.head()\n",
    "dete.isnull().sum()\n"
   ]
  },
  {
   "cell_type": "code",
   "execution_count": 4,
   "id": "9855eff2",
   "metadata": {},
   "outputs": [
    {
     "name": "stdout",
     "output_type": "stream",
     "text": [
      "<class 'pandas.core.frame.DataFrame'>\n",
      "RangeIndex: 702 entries, 0 to 701\n",
      "Data columns (total 23 columns):\n",
      " #   Column                                                                     Non-Null Count  Dtype  \n",
      "---  ------                                                                     --------------  -----  \n",
      " 0   Record ID                                                                  702 non-null    float64\n",
      " 1   Institute                                                                  702 non-null    object \n",
      " 2   WorkArea                                                                   702 non-null    object \n",
      " 3   CESSATION YEAR                                                             695 non-null    float64\n",
      " 4   Reason for ceasing employment                                              701 non-null    object \n",
      " 5   Contributing Factors. Career Move - Public Sector                          437 non-null    object \n",
      " 6   Contributing Factors. Career Move - Private Sector                         437 non-null    object \n",
      " 7   Contributing Factors. Career Move - Self-employment                        437 non-null    object \n",
      " 8   Contributing Factors. Ill Health                                           437 non-null    object \n",
      " 9   Contributing Factors. Maternity/Family                                     437 non-null    object \n",
      " 10  Contributing Factors. Dissatisfaction                                      437 non-null    object \n",
      " 11  Contributing Factors. Job Dissatisfaction                                  437 non-null    object \n",
      " 12  Contributing Factors. Interpersonal Conflict                               437 non-null    object \n",
      " 13  Contributing Factors. Study                                                437 non-null    object \n",
      " 14  Contributing Factors. Travel                                               437 non-null    object \n",
      " 15  Contributing Factors. Other                                                437 non-null    object \n",
      " 16  Contributing Factors. NONE                                                 437 non-null    object \n",
      " 17  Gender. What is your Gender?                                               596 non-null    object \n",
      " 18  CurrentAge. Current Age                                                    596 non-null    object \n",
      " 19  Employment Type. Employment Type                                           596 non-null    object \n",
      " 20  Classification. Classification                                             596 non-null    object \n",
      " 21  LengthofServiceOverall. Overall Length of Service at Institute (in years)  596 non-null    object \n",
      " 22  LengthofServiceCurrent. Length of Service at current workplace (in years)  596 non-null    object \n",
      "dtypes: float64(2), object(21)\n",
      "memory usage: 126.3+ KB\n"
     ]
    },
    {
     "data": {
      "text/plain": [
       "Record ID                                                                      0\n",
       "Institute                                                                      0\n",
       "WorkArea                                                                       0\n",
       "CESSATION YEAR                                                                 7\n",
       "Reason for ceasing employment                                                  1\n",
       "Contributing Factors. Career Move - Public Sector                            265\n",
       "Contributing Factors. Career Move - Private Sector                           265\n",
       "Contributing Factors. Career Move - Self-employment                          265\n",
       "Contributing Factors. Ill Health                                             265\n",
       "Contributing Factors. Maternity/Family                                       265\n",
       "Contributing Factors. Dissatisfaction                                        265\n",
       "Contributing Factors. Job Dissatisfaction                                    265\n",
       "Contributing Factors. Interpersonal Conflict                                 265\n",
       "Contributing Factors. Study                                                  265\n",
       "Contributing Factors. Travel                                                 265\n",
       "Contributing Factors. Other                                                  265\n",
       "Contributing Factors. NONE                                                   265\n",
       "Gender. What is your Gender?                                                 106\n",
       "CurrentAge. Current Age                                                      106\n",
       "Employment Type. Employment Type                                             106\n",
       "Classification. Classification                                               106\n",
       "LengthofServiceOverall. Overall Length of Service at Institute (in years)    106\n",
       "LengthofServiceCurrent. Length of Service at current workplace (in years)    106\n",
       "dtype: int64"
      ]
     },
     "execution_count": 4,
     "metadata": {},
     "output_type": "execute_result"
    }
   ],
   "source": [
    "# investigate raw tafe data\n",
    "\n",
    "tafe.info()\n",
    "tafe.head()\n",
    "tafe.isnull().sum()\n"
   ]
  },
  {
   "cell_type": "markdown",
   "id": "70cdc01d",
   "metadata": {},
   "source": [
    "### the data looks really gross and im having trouble viewing it because Jupyter in this interface is difficult. But... there are hundreds of columns, several are irrelevant, all of them have different names between the two datasets. I'll have to manipulate it a ton before i can make any sense of it."
   ]
  },
  {
   "cell_type": "code",
   "execution_count": 5,
   "id": "665502d8",
   "metadata": {
    "scrolled": true
   },
   "outputs": [
    {
     "data": {
      "text/plain": [
       "Index(['id', 'separationtype', 'cease_date', 'dete_start_date',\n",
       "       'role_start_date', 'position', 'classification', 'region',\n",
       "       'business_unit', 'employment_status', 'career_move_to_public_sector',\n",
       "       'career_move_to_private_sector', 'interpersonal_conflicts',\n",
       "       'job_dissatisfaction', 'dissatisfaction_with_the_department',\n",
       "       'physical_work_environment', 'lack_of_recognition',\n",
       "       'lack_of_job_security', 'work_location', 'employment_conditions',\n",
       "       'maternity/family', 'relocation', 'study/travel', 'ill_health',\n",
       "       'traumatic_incident', 'work_life_balance', 'workload',\n",
       "       'none_of_the_above', 'gender', 'age', 'aboriginal', 'torres_strait',\n",
       "       'south_sea', 'disability', 'nesb'],\n",
       "      dtype='object')"
      ]
     },
     "execution_count": 5,
     "metadata": {},
     "output_type": "execute_result"
    }
   ],
   "source": [
    "# first I will clean the column names in the dete data\n",
    "\n",
    "dete.columns = dete.columns.str.lower().str.strip().str.replace(' ', '_')\n",
    "dete.columns\n"
   ]
  },
  {
   "cell_type": "code",
   "execution_count": 6,
   "id": "f362fd24",
   "metadata": {},
   "outputs": [
    {
     "data": {
      "text/html": [
       "<div>\n",
       "<style scoped>\n",
       "    .dataframe tbody tr th:only-of-type {\n",
       "        vertical-align: middle;\n",
       "    }\n",
       "\n",
       "    .dataframe tbody tr th {\n",
       "        vertical-align: top;\n",
       "    }\n",
       "\n",
       "    .dataframe thead th {\n",
       "        text-align: right;\n",
       "    }\n",
       "</style>\n",
       "<table border=\"1\" class=\"dataframe\">\n",
       "  <thead>\n",
       "    <tr style=\"text-align: right;\">\n",
       "      <th></th>\n",
       "      <th>id</th>\n",
       "      <th>separationtype</th>\n",
       "      <th>cease_date</th>\n",
       "      <th>dete_start_date</th>\n",
       "      <th>role_start_date</th>\n",
       "      <th>position</th>\n",
       "      <th>classification</th>\n",
       "      <th>region</th>\n",
       "      <th>business_unit</th>\n",
       "      <th>employment_status</th>\n",
       "      <th>...</th>\n",
       "      <th>work_life_balance</th>\n",
       "      <th>workload</th>\n",
       "      <th>none_of_the_above</th>\n",
       "      <th>gender</th>\n",
       "      <th>age</th>\n",
       "      <th>aboriginal</th>\n",
       "      <th>torres_strait</th>\n",
       "      <th>south_sea</th>\n",
       "      <th>disability</th>\n",
       "      <th>nesb</th>\n",
       "    </tr>\n",
       "  </thead>\n",
       "  <tbody>\n",
       "    <tr>\n",
       "      <th>0</th>\n",
       "      <td>1</td>\n",
       "      <td>Ill Health Retirement</td>\n",
       "      <td>08/2012</td>\n",
       "      <td>1984.0</td>\n",
       "      <td>2004.0</td>\n",
       "      <td>Public Servant</td>\n",
       "      <td>A01-A04</td>\n",
       "      <td>Central Office</td>\n",
       "      <td>Corporate Strategy and Peformance</td>\n",
       "      <td>Permanent Full-time</td>\n",
       "      <td>...</td>\n",
       "      <td>False</td>\n",
       "      <td>False</td>\n",
       "      <td>True</td>\n",
       "      <td>Male</td>\n",
       "      <td>56-60</td>\n",
       "      <td>NaN</td>\n",
       "      <td>NaN</td>\n",
       "      <td>NaN</td>\n",
       "      <td>NaN</td>\n",
       "      <td>Yes</td>\n",
       "    </tr>\n",
       "    <tr>\n",
       "      <th>1</th>\n",
       "      <td>2</td>\n",
       "      <td>Voluntary Early Retirement (VER)</td>\n",
       "      <td>08/2012</td>\n",
       "      <td>NaN</td>\n",
       "      <td>NaN</td>\n",
       "      <td>Public Servant</td>\n",
       "      <td>AO5-AO7</td>\n",
       "      <td>Central Office</td>\n",
       "      <td>Corporate Strategy and Peformance</td>\n",
       "      <td>Permanent Full-time</td>\n",
       "      <td>...</td>\n",
       "      <td>False</td>\n",
       "      <td>False</td>\n",
       "      <td>False</td>\n",
       "      <td>Male</td>\n",
       "      <td>56-60</td>\n",
       "      <td>NaN</td>\n",
       "      <td>NaN</td>\n",
       "      <td>NaN</td>\n",
       "      <td>NaN</td>\n",
       "      <td>NaN</td>\n",
       "    </tr>\n",
       "    <tr>\n",
       "      <th>2</th>\n",
       "      <td>3</td>\n",
       "      <td>Voluntary Early Retirement (VER)</td>\n",
       "      <td>05/2012</td>\n",
       "      <td>2011.0</td>\n",
       "      <td>2011.0</td>\n",
       "      <td>Schools Officer</td>\n",
       "      <td>NaN</td>\n",
       "      <td>Central Office</td>\n",
       "      <td>Education Queensland</td>\n",
       "      <td>Permanent Full-time</td>\n",
       "      <td>...</td>\n",
       "      <td>False</td>\n",
       "      <td>False</td>\n",
       "      <td>True</td>\n",
       "      <td>Male</td>\n",
       "      <td>61 or older</td>\n",
       "      <td>NaN</td>\n",
       "      <td>NaN</td>\n",
       "      <td>NaN</td>\n",
       "      <td>NaN</td>\n",
       "      <td>NaN</td>\n",
       "    </tr>\n",
       "    <tr>\n",
       "      <th>3</th>\n",
       "      <td>4</td>\n",
       "      <td>Resignation-Other reasons</td>\n",
       "      <td>05/2012</td>\n",
       "      <td>2005.0</td>\n",
       "      <td>2006.0</td>\n",
       "      <td>Teacher</td>\n",
       "      <td>Primary</td>\n",
       "      <td>Central Queensland</td>\n",
       "      <td>NaN</td>\n",
       "      <td>Permanent Full-time</td>\n",
       "      <td>...</td>\n",
       "      <td>False</td>\n",
       "      <td>False</td>\n",
       "      <td>False</td>\n",
       "      <td>Female</td>\n",
       "      <td>36-40</td>\n",
       "      <td>NaN</td>\n",
       "      <td>NaN</td>\n",
       "      <td>NaN</td>\n",
       "      <td>NaN</td>\n",
       "      <td>NaN</td>\n",
       "    </tr>\n",
       "    <tr>\n",
       "      <th>4</th>\n",
       "      <td>5</td>\n",
       "      <td>Age Retirement</td>\n",
       "      <td>05/2012</td>\n",
       "      <td>1970.0</td>\n",
       "      <td>1989.0</td>\n",
       "      <td>Head of Curriculum/Head of Special Education</td>\n",
       "      <td>NaN</td>\n",
       "      <td>South East</td>\n",
       "      <td>NaN</td>\n",
       "      <td>Permanent Full-time</td>\n",
       "      <td>...</td>\n",
       "      <td>True</td>\n",
       "      <td>False</td>\n",
       "      <td>False</td>\n",
       "      <td>Female</td>\n",
       "      <td>61 or older</td>\n",
       "      <td>NaN</td>\n",
       "      <td>NaN</td>\n",
       "      <td>NaN</td>\n",
       "      <td>NaN</td>\n",
       "      <td>NaN</td>\n",
       "    </tr>\n",
       "  </tbody>\n",
       "</table>\n",
       "<p>5 rows × 35 columns</p>\n",
       "</div>"
      ],
      "text/plain": [
       "   id                    separationtype cease_date  dete_start_date  \\\n",
       "0   1             Ill Health Retirement    08/2012           1984.0   \n",
       "1   2  Voluntary Early Retirement (VER)    08/2012              NaN   \n",
       "2   3  Voluntary Early Retirement (VER)    05/2012           2011.0   \n",
       "3   4         Resignation-Other reasons    05/2012           2005.0   \n",
       "4   5                    Age Retirement    05/2012           1970.0   \n",
       "\n",
       "   role_start_date                                      position  \\\n",
       "0           2004.0                                Public Servant   \n",
       "1              NaN                                Public Servant   \n",
       "2           2011.0                               Schools Officer   \n",
       "3           2006.0                                       Teacher   \n",
       "4           1989.0  Head of Curriculum/Head of Special Education   \n",
       "\n",
       "  classification              region                      business_unit  \\\n",
       "0        A01-A04      Central Office  Corporate Strategy and Peformance   \n",
       "1        AO5-AO7      Central Office  Corporate Strategy and Peformance   \n",
       "2            NaN      Central Office               Education Queensland   \n",
       "3        Primary  Central Queensland                                NaN   \n",
       "4            NaN          South East                                NaN   \n",
       "\n",
       "     employment_status  ...  work_life_balance  workload  none_of_the_above  \\\n",
       "0  Permanent Full-time  ...              False     False               True   \n",
       "1  Permanent Full-time  ...              False     False              False   \n",
       "2  Permanent Full-time  ...              False     False               True   \n",
       "3  Permanent Full-time  ...              False     False              False   \n",
       "4  Permanent Full-time  ...               True     False              False   \n",
       "\n",
       "   gender          age  aboriginal  torres_strait  south_sea  disability  nesb  \n",
       "0    Male        56-60         NaN            NaN        NaN         NaN   Yes  \n",
       "1    Male        56-60         NaN            NaN        NaN         NaN   NaN  \n",
       "2    Male  61 or older         NaN            NaN        NaN         NaN   NaN  \n",
       "3  Female        36-40         NaN            NaN        NaN         NaN   NaN  \n",
       "4  Female  61 or older         NaN            NaN        NaN         NaN   NaN  \n",
       "\n",
       "[5 rows x 35 columns]"
      ]
     },
     "execution_count": 6,
     "metadata": {},
     "output_type": "execute_result"
    }
   ],
   "source": [
    "# renaming the column names in the tafe data\n",
    "\n",
    "new_names = {'Record ID':'id', 'CESSATION YEAR':'cease_date', 'Reason for ceasing employment': 'separationtype', 'Gender. What is your Gender?': 'gender', 'CurrentAge. Current Age': 'age', 'Employment Type. Employment Type': 'employment_status', 'Classification. Classification': 'position', 'LengthofServiceOverall. Overall Length of Service at Institute (in years)': 'institute_service', 'LengthofServiceCurrent. Length of Service at current workplace (in years)': 'role_service'}\n",
    "tafe = tafe.rename(new_names, axis=1)\n",
    "tafe.head()\n",
    "dete.head()\n"
   ]
  },
  {
   "cell_type": "markdown",
   "id": "9f39592a",
   "metadata": {},
   "source": [
    "now the columns to be analysed will have matching names"
   ]
  },
  {
   "cell_type": "code",
   "execution_count": 7,
   "id": "bfe14b91",
   "metadata": {
    "scrolled": true
   },
   "outputs": [
    {
     "name": "stdout",
     "output_type": "stream",
     "text": [
      "Age Retirement                          285\n",
      "Resignation-Other reasons               150\n",
      "Resignation-Other employer               91\n",
      "Resignation-Move overseas/interstate     70\n",
      "Voluntary Early Retirement (VER)         67\n",
      "Ill Health Retirement                    61\n",
      "Other                                    49\n",
      "Contract Expired                         34\n",
      "Termination                              15\n",
      "Name: separationtype, dtype: int64 \n",
      "\n",
      "Resignation                 340\n",
      "Contract Expired            127\n",
      "Retrenchment/ Redundancy    104\n",
      "Retirement                   82\n",
      "Transfer                     25\n",
      "Termination                  23\n",
      "Name: separationtype, dtype: int64\n"
     ]
    }
   ],
   "source": [
    "# investigating the separation type columns\n",
    "# to isolate employees who resigned\n",
    "\n",
    "print(dete['separationtype'].value_counts(),'\\n')\n",
    "print(tafe['separationtype'].value_counts())\n"
   ]
  },
  {
   "cell_type": "code",
   "execution_count": 8,
   "id": "73edbde3",
   "metadata": {
    "scrolled": true
   },
   "outputs": [
    {
     "data": {
      "text/plain": [
       "Resignation-Other reasons               150\n",
       "Resignation-Other employer               91\n",
       "Resignation-Move overseas/interstate     70\n",
       "Name: separationtype, dtype: int64"
      ]
     },
     "execution_count": 8,
     "metadata": {},
     "output_type": "execute_result"
    }
   ],
   "source": [
    "# selecting only separation type == resignation\n",
    "\n",
    "dete = dete[(dete['separationtype'] == 'Resignation-Other reasons') | (dete['separationtype'] == 'Resignation-Other employer') | (dete['separationtype'] == 'Resignation-Move overseas/interstate')].copy()\n",
    "dete['separationtype'].value_counts()\n"
   ]
  },
  {
   "cell_type": "code",
   "execution_count": 9,
   "id": "2faf2b7e",
   "metadata": {},
   "outputs": [
    {
     "data": {
      "text/plain": [
       "Resignation    340\n",
       "Name: separationtype, dtype: int64"
      ]
     },
     "execution_count": 9,
     "metadata": {},
     "output_type": "execute_result"
    }
   ],
   "source": [
    "# selecting only separation type == resignation\n",
    "\n",
    "tafe = tafe[tafe['separationtype'] == 'Resignation'].copy()\n",
    "tafe['separationtype'].value_counts()\n"
   ]
  },
  {
   "cell_type": "markdown",
   "id": "f132e8e8",
   "metadata": {},
   "source": [
    "we are only interested in determining the relationships between employees resigning, so we will isolate data from employees who resigned\n",
    "\n",
    "# Clean the cease date columns in both datasets"
   ]
  },
  {
   "cell_type": "code",
   "execution_count": 10,
   "id": "6cd98e20",
   "metadata": {},
   "outputs": [
    {
     "name": "stdout",
     "output_type": "stream",
     "text": [
      "    id                        separationtype  cease_date  dete_start_date  \\\n",
      "3    4             Resignation-Other reasons      2012.0           2005.0   \n",
      "5    6             Resignation-Other reasons      2012.0           1994.0   \n",
      "8    9             Resignation-Other reasons      2012.0           2009.0   \n",
      "9   10            Resignation-Other employer      2012.0           1997.0   \n",
      "11  12  Resignation-Move overseas/interstate      2012.0           2009.0   \n",
      "\n",
      "    role_start_date          position classification                region  \\\n",
      "3            2006.0           Teacher        Primary    Central Queensland   \n",
      "5            1997.0  Guidance Officer            NaN        Central Office   \n",
      "8            2009.0           Teacher      Secondary      North Queensland   \n",
      "9            2008.0      Teacher Aide            NaN                   NaN   \n",
      "11           2009.0           Teacher      Secondary  Far North Queensland   \n",
      "\n",
      "           business_unit    employment_status  ...  work_life_balance  \\\n",
      "3                    NaN  Permanent Full-time  ...              False   \n",
      "5   Education Queensland  Permanent Full-time  ...              False   \n",
      "8                    NaN  Permanent Full-time  ...              False   \n",
      "9                    NaN  Permanent Part-time  ...              False   \n",
      "11                   NaN  Permanent Full-time  ...              False   \n",
      "\n",
      "    workload  none_of_the_above  gender    age  aboriginal  torres_strait  \\\n",
      "3      False              False  Female  36-40         NaN            NaN   \n",
      "5      False              False  Female  41-45         NaN            NaN   \n",
      "8      False              False  Female  31-35         NaN            NaN   \n",
      "9      False              False  Female  46-50         NaN            NaN   \n",
      "11     False              False    Male  31-35         NaN            NaN   \n",
      "\n",
      "    south_sea  disability  nesb  \n",
      "3         NaN         NaN   NaN  \n",
      "5         NaN         NaN   NaN  \n",
      "8         NaN         NaN   NaN  \n",
      "9         NaN         NaN   NaN  \n",
      "11        NaN         NaN   NaN  \n",
      "\n",
      "[5 rows x 35 columns]\n"
     ]
    }
   ],
   "source": [
    "# print(dete['cease_date'].value_counts(dropna=False))\n",
    "dete['cease_date'] = dete['cease_date'].str.split('/').str[-1]\n",
    "dete['cease_date'] = dete['cease_date'].astype(float)\n",
    "dete['cease_date'].value_counts(dropna=False)\n",
    "print(dete.head())\n"
   ]
  },
  {
   "cell_type": "code",
   "execution_count": 11,
   "id": "fa40677b",
   "metadata": {},
   "outputs": [
    {
     "name": "stdout",
     "output_type": "stream",
     "text": [
      "2011.0    116\n",
      "2012.0     94\n",
      "2010.0     68\n",
      "2013.0     55\n",
      "NaN         5\n",
      "2009.0      2\n",
      "Name: cease_date, dtype: int64\n"
     ]
    }
   ],
   "source": [
    "# print(tafe['cease_date'].value_counts(dropna=False))\n",
    "tafe['cease_date'] = tafe['cease_date'].astype(float)\n",
    "print(tafe['cease_date'].value_counts(dropna=False))\n"
   ]
  },
  {
   "cell_type": "code",
   "execution_count": 12,
   "id": "6d73209b",
   "metadata": {},
   "outputs": [
    {
     "data": {
      "text/plain": [
       "1963.0     1\n",
       "1971.0     1\n",
       "1972.0     1\n",
       "1973.0     1\n",
       "1974.0     2\n",
       "1975.0     1\n",
       "1976.0     2\n",
       "1977.0     1\n",
       "1980.0     5\n",
       "1982.0     1\n",
       "1983.0     2\n",
       "1984.0     1\n",
       "1985.0     3\n",
       "1986.0     3\n",
       "1987.0     1\n",
       "1988.0     4\n",
       "1989.0     4\n",
       "1990.0     5\n",
       "1991.0     4\n",
       "1992.0     6\n",
       "1993.0     5\n",
       "1994.0     6\n",
       "1995.0     4\n",
       "1996.0     6\n",
       "1997.0     5\n",
       "1998.0     6\n",
       "1999.0     8\n",
       "2000.0     9\n",
       "2001.0     3\n",
       "2002.0     6\n",
       "2003.0     6\n",
       "2004.0    14\n",
       "2005.0    15\n",
       "2006.0    13\n",
       "2007.0    21\n",
       "2008.0    22\n",
       "2009.0    13\n",
       "2010.0    17\n",
       "2011.0    24\n",
       "2012.0    21\n",
       "2013.0    10\n",
       "NaN       28\n",
       "Name: start_date, dtype: int64"
      ]
     },
     "execution_count": 12,
     "metadata": {},
     "output_type": "execute_result"
    }
   ],
   "source": [
    "# cleaning dete start date data\n",
    "dete['start_date'] = dete['dete_start_date']\n",
    "dete_sd_vc = dete['start_date'].value_counts(dropna=False)\n",
    "dete_sd_vc.sort_index()\n"
   ]
  },
  {
   "cell_type": "code",
   "execution_count": 13,
   "id": "9d94b483",
   "metadata": {},
   "outputs": [
    {
     "data": {
      "text/plain": [
       "49.0     1\n",
       "42.0     1\n",
       "41.0     1\n",
       "39.0     3\n",
       "38.0     1\n",
       "36.0     2\n",
       "35.0     1\n",
       "34.0     1\n",
       "33.0     1\n",
       "32.0     3\n",
       "31.0     1\n",
       "30.0     2\n",
       "29.0     1\n",
       "28.0     2\n",
       "27.0     1\n",
       "26.0     2\n",
       "25.0     2\n",
       "24.0     4\n",
       "23.0     4\n",
       "22.0     6\n",
       "21.0     3\n",
       "20.0     7\n",
       "19.0     3\n",
       "18.0     5\n",
       "17.0     6\n",
       "16.0     5\n",
       "15.0     7\n",
       "14.0     6\n",
       "13.0     8\n",
       "12.0     6\n",
       "11.0     4\n",
       "10.0     6\n",
       "9.0     14\n",
       "8.0      8\n",
       "7.0     13\n",
       "6.0     17\n",
       "5.0     23\n",
       "4.0     16\n",
       "3.0     20\n",
       "2.0     14\n",
       "1.0     22\n",
       "0.0     20\n",
       "NaN     38\n",
       "Name: institute_service, dtype: int64"
      ]
     },
     "execution_count": 13,
     "metadata": {},
     "output_type": "execute_result"
    }
   ],
   "source": [
    "\"\"\"\n",
    "\n",
    "creating a new column in dete dataset (institute service)\n",
    "to describe years of service and match tafe dataset \n",
    "\n",
    "\"\"\"\n",
    "\n",
    "dete['institute_service'] = dete['cease_date'] - dete['start_date']\n",
    "dete['institute_service'].value_counts(dropna=False).sort_index(ascending=False)\n"
   ]
  },
  {
   "cell_type": "code",
   "execution_count": 14,
   "id": "ed12d958",
   "metadata": {},
   "outputs": [
    {
     "name": "stdout",
     "output_type": "stream",
     "text": [
      "-                                         277\n",
      "Contributing Factors. Dissatisfaction      55\n",
      "NaN                                         8\n",
      "Name: Contributing Factors. Dissatisfaction, dtype: int64\n",
      "-                      270\n",
      "Job Dissatisfaction     62\n",
      "NaN                      8\n",
      "Name: Contributing Factors. Job Dissatisfaction, dtype: int64\n"
     ]
    }
   ],
   "source": [
    "# investigating reasons employees resigned from tafe\n",
    "\n",
    "print(tafe['Contributing Factors. Dissatisfaction'].value_counts(dropna=False))\n",
    "print(tafe['Contributing Factors. Job Dissatisfaction'].value_counts(dropna=False))\n"
   ]
  },
  {
   "cell_type": "code",
   "execution_count": 15,
   "id": "08e5e111",
   "metadata": {},
   "outputs": [
    {
     "data": {
      "text/plain": [
       "False    241\n",
       "True      99\n",
       "Name: dissatisfied, dtype: int64"
      ]
     },
     "execution_count": 15,
     "metadata": {},
     "output_type": "execute_result"
    }
   ],
   "source": [
    "# determining which employees were dissatisfied\n",
    "\n",
    "# tafe dataset first\n",
    "\n",
    "\"\"\"\n",
    "\n",
    "this is a function to be applied to tafe columns\n",
    "that reduce a reason why the employee left to a\n",
    "to a simple True of False for employee disatisfaction\n",
    "\n",
    "\"\"\"\n",
    "\n",
    "def update_vals(cell):\n",
    "    if cell == '-':\n",
    "        return False\n",
    "    elif pd.isnull(cell):\n",
    "        return np.nan\n",
    "    else:\n",
    "        return True\n",
    "\n",
    "tafe['dissatisfied'] = tafe[['Contributing Factors. Job Dissatisfaction', 'Contributing Factors. Dissatisfaction']].applymap(update_vals).any(axis=1, skipna=False)\n",
    "tafe['dissatisfied'].value_counts(dropna=False)\n"
   ]
  },
  {
   "cell_type": "code",
   "execution_count": 16,
   "id": "384debe3",
   "metadata": {
    "scrolled": true
   },
   "outputs": [],
   "source": [
    "# dete\n",
    "\n",
    "\n",
    "\"\"\"\n",
    "\n",
    "this will reduce reasons an employee was disatisfied\n",
    "to a simple True or False for employee disatisfaction\n",
    "\n",
    "\"\"\"\n",
    "\n",
    "dete['dissatisfied'] = dete[['job_dissatisfaction',\n",
    "'dissatisfaction_with_the_department',\n",
    "'physical_work_environment',\n",
    "'lack_of_recognition',\n",
    "'lack_of_job_security',\n",
    "'work_location',\n",
    "'employment_conditions',\n",
    "'work_life_balance',\n",
    "'workload']].any(axis=1, skipna=False)\n",
    "# dete['dissatisfied'].value_counts(dropna=False)\n"
   ]
  },
  {
   "cell_type": "code",
   "execution_count": 17,
   "id": "ca1fb7d0",
   "metadata": {
    "scrolled": false
   },
   "outputs": [
    {
     "data": {
      "text/plain": [
       "veteran        100\n",
       "experienced     76\n",
       "new             56\n",
       "established     41\n",
       "NaN             38\n",
       "Name: service_category, dtype: int64"
      ]
     },
     "execution_count": 17,
     "metadata": {},
     "output_type": "execute_result"
    }
   ],
   "source": [
    "# normalize institute service\n",
    "\n",
    "dete['institute_service'].describe()\n",
    "\n",
    "def isn(cell):\n",
    "    if cell < 3:\n",
    "        return 'new'\n",
    "    elif cell < 7:\n",
    "        return 'experienced'\n",
    "    elif cell < 11:\n",
    "        return 'established'\n",
    "    elif pd.isnull(cell):\n",
    "        return np.nan\n",
    "    else:\n",
    "        return 'veteran'\n",
    "\n",
    "dete['service_category'] = dete['institute_service'].apply(isn)\n",
    "dete['service_category'].value_counts(dropna=False)\n"
   ]
  },
  {
   "cell_type": "code",
   "execution_count": 18,
   "id": "e9462dca",
   "metadata": {},
   "outputs": [
    {
     "data": {
      "text/plain": [
       "new            137\n",
       "experienced     96\n",
       "NaN             50\n",
       "veteran         36\n",
       "established     21\n",
       "Name: service_category, dtype: int64"
      ]
     },
     "execution_count": 18,
     "metadata": {},
     "output_type": "execute_result"
    }
   ],
   "source": [
    "tafe['institute_service'].value_counts(dropna=False)\n",
    "\n",
    "def isn(cell):\n",
    "    if cell == 'Less than 1 year' or cell == '1-2':\n",
    "        return 'new'\n",
    "    elif cell == '3-4' or cell == '5-6':\n",
    "        return 'experienced'\n",
    "    elif cell == '7-10':\n",
    "        return 'established'\n",
    "    elif pd.isnull(cell):\n",
    "        return np.nan\n",
    "    else:\n",
    "        return 'veteran'\n",
    "\n",
    "tafe['service_category'] = tafe['institute_service'].apply(isn)\n",
    "tafe['service_category'].value_counts(dropna=False)\n"
   ]
  },
  {
   "cell_type": "code",
   "execution_count": 19,
   "id": "e7fd6050",
   "metadata": {},
   "outputs": [],
   "source": [
    "# to distinguish dete from tafe after merging dataframes\n",
    "\n",
    "dete['institute'] = 'DETE'\n",
    "tafe['institute'] = 'TAFE'\n"
   ]
  },
  {
   "cell_type": "code",
   "execution_count": 20,
   "id": "997dab7e",
   "metadata": {},
   "outputs": [
    {
     "name": "stdout",
     "output_type": "stream",
     "text": [
      "<class 'pandas.core.frame.DataFrame'>\n",
      "Int64Index: 651 entries, 3 to 701\n",
      "Data columns (total 55 columns):\n",
      " #   Column                                               Non-Null Count  Dtype  \n",
      "---  ------                                               --------------  -----  \n",
      " 0   id                                                   651 non-null    float64\n",
      " 1   separationtype                                       651 non-null    object \n",
      " 2   cease_date                                           635 non-null    float64\n",
      " 3   dete_start_date                                      283 non-null    float64\n",
      " 4   role_start_date                                      271 non-null    float64\n",
      " 5   position                                             598 non-null    object \n",
      " 6   classification                                       161 non-null    object \n",
      " 7   region                                               265 non-null    object \n",
      " 8   business_unit                                        32 non-null     object \n",
      " 9   employment_status                                    597 non-null    object \n",
      " 10  career_move_to_public_sector                         311 non-null    object \n",
      " 11  career_move_to_private_sector                        311 non-null    object \n",
      " 12  interpersonal_conflicts                              311 non-null    object \n",
      " 13  job_dissatisfaction                                  311 non-null    object \n",
      " 14  dissatisfaction_with_the_department                  311 non-null    object \n",
      " 15  physical_work_environment                            311 non-null    object \n",
      " 16  lack_of_recognition                                  311 non-null    object \n",
      " 17  lack_of_job_security                                 311 non-null    object \n",
      " 18  work_location                                        311 non-null    object \n",
      " 19  employment_conditions                                311 non-null    object \n",
      " 20  maternity/family                                     311 non-null    object \n",
      " 21  relocation                                           311 non-null    object \n",
      " 22  study/travel                                         311 non-null    object \n",
      " 23  ill_health                                           311 non-null    object \n",
      " 24  traumatic_incident                                   311 non-null    object \n",
      " 25  work_life_balance                                    311 non-null    object \n",
      " 26  workload                                             311 non-null    object \n",
      " 27  none_of_the_above                                    311 non-null    object \n",
      " 28  gender                                               592 non-null    object \n",
      " 29  age                                                  596 non-null    object \n",
      " 30  aboriginal                                           7 non-null      object \n",
      " 31  torres_strait                                        0 non-null      object \n",
      " 32  south_sea                                            3 non-null      object \n",
      " 33  disability                                           8 non-null      object \n",
      " 34  nesb                                                 9 non-null      object \n",
      " 35  start_date                                           283 non-null    float64\n",
      " 36  institute_service                                    563 non-null    object \n",
      " 37  dissatisfied                                         651 non-null    bool   \n",
      " 38  service_category                                     563 non-null    object \n",
      " 39  institute                                            651 non-null    object \n",
      " 40  Institute                                            340 non-null    object \n",
      " 41  WorkArea                                             340 non-null    object \n",
      " 42  Contributing Factors. Career Move - Public Sector    332 non-null    object \n",
      " 43  Contributing Factors. Career Move - Private Sector   332 non-null    object \n",
      " 44  Contributing Factors. Career Move - Self-employment  332 non-null    object \n",
      " 45  Contributing Factors. Ill Health                     332 non-null    object \n",
      " 46  Contributing Factors. Maternity/Family               332 non-null    object \n",
      " 47  Contributing Factors. Dissatisfaction                332 non-null    object \n",
      " 48  Contributing Factors. Job Dissatisfaction            332 non-null    object \n",
      " 49  Contributing Factors. Interpersonal Conflict         332 non-null    object \n",
      " 50  Contributing Factors. Study                          332 non-null    object \n",
      " 51  Contributing Factors. Travel                         332 non-null    object \n",
      " 52  Contributing Factors. Other                          332 non-null    object \n",
      " 53  Contributing Factors. NONE                           332 non-null    object \n",
      " 54  role_service                                         290 non-null    object \n",
      "dtypes: bool(1), float64(5), object(49)\n",
      "memory usage: 280.4+ KB\n"
     ]
    }
   ],
   "source": [
    "# merge dete and tafe\n",
    "\n",
    "combined = pd.concat([dete, tafe])\n",
    "combined.info()\n"
   ]
  },
  {
   "cell_type": "code",
   "execution_count": 21,
   "id": "bdf20858",
   "metadata": {},
   "outputs": [
    {
     "data": {
      "text/plain": [
       "False    403\n",
       "True     248\n",
       "Name: dissatisfied, dtype: int64"
      ]
     },
     "execution_count": 21,
     "metadata": {},
     "output_type": "execute_result"
    }
   ],
   "source": [
    "combined['dissatisfied'].value_counts(dropna=False)\n"
   ]
  },
  {
   "cell_type": "code",
   "execution_count": 22,
   "id": "8f0630a4",
   "metadata": {},
   "outputs": [
    {
     "data": {
      "image/png": "[encoded data removed]",
      "text/plain": [
       "<Figure size 432x288 with 1 Axes>"
      ]
     },
     "metadata": {
      "needs_background": "light"
     },
     "output_type": "display_data"
    }
   ],
   "source": [
    "# Replace missing values with the most frequent value, False\n",
    "\n",
    "combined['dissatisfied'] = combined['dissatisfied'].fillna(False)\n",
    "cpvt = combined.pivot_table(index='service_category', values='dissatisfied', dropna=False)\n",
    "\n",
    "# Plot the results\n",
    "\n",
    "%matplotlib inline\n",
    "cpvt.plot(kind='bar')\n",
    "plt.show()\n"
   ]
  },
  {
   "cell_type": "markdown",
   "id": "6cada10d",
   "metadata": {},
   "source": [
    "it appears that the longer an employee is with the company, the more likely they are to resign due to dissatisfaction with the employer\n",
    "\n",
    "now to explore the relationship with age and dissatisfaction"
   ]
  },
  {
   "cell_type": "code",
   "execution_count": 23,
   "id": "f972b6c7",
   "metadata": {},
   "outputs": [
    {
     "name": "stdout",
     "output_type": "stream",
     "text": [
      "<class 'pandas.core.frame.DataFrame'>\n",
      "Int64Index: 651 entries, 3 to 701\n",
      "Data columns (total 55 columns):\n",
      " #   Column                                               Non-Null Count  Dtype  \n",
      "---  ------                                               --------------  -----  \n",
      " 0   id                                                   651 non-null    float64\n",
      " 1   separationtype                                       651 non-null    object \n",
      " 2   cease_date                                           635 non-null    float64\n",
      " 3   dete_start_date                                      283 non-null    float64\n",
      " 4   role_start_date                                      271 non-null    float64\n",
      " 5   position                                             598 non-null    object \n",
      " 6   classification                                       161 non-null    object \n",
      " 7   region                                               265 non-null    object \n",
      " 8   business_unit                                        32 non-null     object \n",
      " 9   employment_status                                    597 non-null    object \n",
      " 10  career_move_to_public_sector                         311 non-null    object \n",
      " 11  career_move_to_private_sector                        311 non-null    object \n",
      " 12  interpersonal_conflicts                              311 non-null    object \n",
      " 13  job_dissatisfaction                                  311 non-null    object \n",
      " 14  dissatisfaction_with_the_department                  311 non-null    object \n",
      " 15  physical_work_environment                            311 non-null    object \n",
      " 16  lack_of_recognition                                  311 non-null    object \n",
      " 17  lack_of_job_security                                 311 non-null    object \n",
      " 18  work_location                                        311 non-null    object \n",
      " 19  employment_conditions                                311 non-null    object \n",
      " 20  maternity/family                                     311 non-null    object \n",
      " 21  relocation                                           311 non-null    object \n",
      " 22  study/travel                                         311 non-null    object \n",
      " 23  ill_health                                           311 non-null    object \n",
      " 24  traumatic_incident                                   311 non-null    object \n",
      " 25  work_life_balance                                    311 non-null    object \n",
      " 26  workload                                             311 non-null    object \n",
      " 27  none_of_the_above                                    311 non-null    object \n",
      " 28  gender                                               592 non-null    object \n",
      " 29  age                                                  596 non-null    object \n",
      " 30  aboriginal                                           7 non-null      object \n",
      " 31  torres_strait                                        0 non-null      object \n",
      " 32  south_sea                                            3 non-null      object \n",
      " 33  disability                                           8 non-null      object \n",
      " 34  nesb                                                 9 non-null      object \n",
      " 35  start_date                                           283 non-null    float64\n",
      " 36  institute_service                                    563 non-null    object \n",
      " 37  dissatisfied                                         651 non-null    bool   \n",
      " 38  service_category                                     563 non-null    object \n",
      " 39  institute                                            651 non-null    object \n",
      " 40  Institute                                            340 non-null    object \n",
      " 41  WorkArea                                             340 non-null    object \n",
      " 42  Contributing Factors. Career Move - Public Sector    332 non-null    object \n",
      " 43  Contributing Factors. Career Move - Private Sector   332 non-null    object \n",
      " 44  Contributing Factors. Career Move - Self-employment  332 non-null    object \n",
      " 45  Contributing Factors. Ill Health                     332 non-null    object \n",
      " 46  Contributing Factors. Maternity/Family               332 non-null    object \n",
      " 47  Contributing Factors. Dissatisfaction                332 non-null    object \n",
      " 48  Contributing Factors. Job Dissatisfaction            332 non-null    object \n",
      " 49  Contributing Factors. Interpersonal Conflict         332 non-null    object \n",
      " 50  Contributing Factors. Study                          332 non-null    object \n",
      " 51  Contributing Factors. Travel                         332 non-null    object \n",
      " 52  Contributing Factors. Other                          332 non-null    object \n",
      " 53  Contributing Factors. NONE                           332 non-null    object \n",
      " 54  role_service                                         290 non-null    object \n",
      "dtypes: bool(1), float64(5), object(49)\n",
      "memory usage: 280.4+ KB\n"
     ]
    },
    {
     "data": {
      "text/plain": [
       "41-45            93\n",
       "46-50            81\n",
       "56 or older      78\n",
       "36-40            73\n",
       "51-55            71\n",
       "26-30            67\n",
       "21-25            62\n",
       "31-35            61\n",
       "NaN              55\n",
       "20 or younger    10\n",
       "Name: age, dtype: int64"
      ]
     },
     "execution_count": 23,
     "metadata": {},
     "output_type": "execute_result"
    }
   ],
   "source": [
    "# cleaning the age column\n",
    "\n",
    "combined.info()\n",
    "combined['age'] = combined['age'].str.replace('  ', '-').str.strip()\n",
    "\n",
    "def combages(cell):\n",
    "    if cell == '56-60' or cell == '61 or older':\n",
    "        return '56 or older'\n",
    "    else:\n",
    "        return cell\n",
    "\n",
    "combined['age'] = combined['age'].apply(combages)\n",
    "combined['age'].value_counts(dropna=False)\n"
   ]
  },
  {
   "cell_type": "code",
   "execution_count": 24,
   "id": "87dca65c",
   "metadata": {},
   "outputs": [
    {
     "data": {
      "image/png": "[encoded data removed]",
      "text/plain": [
       "<Figure size 432x288 with 1 Axes>"
      ]
     },
     "metadata": {
      "needs_background": "light"
     },
     "output_type": "display_data"
    }
   ],
   "source": [
    "# group by age and plot dissatisfaction with employer\n",
    "\n",
    "pvta = combined.pivot_table(index='age', values='dissatisfied', dropna=False)\n",
    "pvta.plot(kind='bar')\n",
    "plt.show()\n"
   ]
  },
  {
   "cell_type": "markdown",
   "id": "4e8eb7b4",
   "metadata": {},
   "source": [
    "# Conclusion:\n",
    "Younger employees are more likely to resign for reasons other than being dissatisfied with the employer. This agrees with our first finding, that the older an employee is, or longer he has been with a company, the more likely they are to be disatisfied with the employer"
   ]
  },
  {
   "cell_type": "code",
   "execution_count": null,
   "id": "08d10e65",
   "metadata": {},
   "outputs": [],
   "source": []
  }
 ],
 "metadata": {
  "kernelspec": {
   "display_name": "Python 3 (ipykernel)",
   "language": "python",
   "name": "python3"
  },
  "language_info": {
   "codemirror_mode": {
    "name": "ipython",
    "version": 3
   },
   "file_extension": ".py",
   "mimetype": "text/x-python",
   "name": "python",
   "nbconvert_exporter": "python",
   "pygments_lexer": "ipython3",
   "version": "3.9.7"
  }
 },
 "nbformat": 4,
 "nbformat_minor": 5
}
